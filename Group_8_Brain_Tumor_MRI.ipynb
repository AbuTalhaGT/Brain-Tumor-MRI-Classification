{
  "metadata": {
    "kernelspec": {
      "language": "python",
      "display_name": "Python 3",
      "name": "python3"
    },
    "language_info": {
      "name": "python",
      "version": "3.7.10",
      "mimetype": "text/x-python",
      "codemirror_mode": {
        "name": "ipython",
        "version": 3
      },
      "pygments_lexer": "ipython3",
      "nbconvert_exporter": "python",
      "file_extension": ".py"
    },
    "kaggle": {
      "accelerator": "gpu",
      "dataSources": [
        {
          "sourceId": 1183165,
          "sourceType": "datasetVersion",
          "datasetId": 672377
        }
      ],
      "dockerImageVersionId": 30097,
      "isInternetEnabled": true,
      "language": "python",
      "sourceType": "notebook",
      "isGpuEnabled": true
    },
    "colab": {
      "provenance": []
    }
  },
  "nbformat_minor": 0,
  "nbformat": 4,
  "cells": [
    {
      "cell_type": "markdown",
      "source": [
        "# Importing Libraries"
      ],
      "metadata": {
        "id": "qVXXZq2JJ-vC"
      }
    },
    {
      "cell_type": "code",
      "source": [
        "import matplotlib.pyplot as plt\n",
        "import numpy as np\n",
        "import pandas as pd\n",
        "import seaborn as sns\n",
        "import cv2\n",
        "import tensorflow as tf\n",
        "from tensorflow.keras.preprocessing.image import ImageDataGenerator\n",
        "from sklearn.metrics import accuracy_score\n",
        "from sklearn.metrics import confusion_matrix, ConfusionMatrixDisplay\n",
        "from tqdm import tqdm\n",
        "import os\n",
        "from sklearn.utils import shuffle\n",
        "from tensorflow.keras.layers import Conv2D, MaxPooling2D, Dropout, AveragePooling2D\n",
        "from tensorflow.keras.layers import Conv2D, MaxPooling2D, Flatten, Dense, Dropout, BatchNormalization\n",
        "from keras.models import Sequential\n",
        "from keras.layers import Dense, Activation, Flatten\n",
        "from sklearn.model_selection import train_test_split\n",
        "from tensorflow.keras.applications import EfficientNetB0\n",
        "from tensorflow.keras.callbacks import EarlyStopping, ReduceLROnPlateau, TensorBoard, ModelCheckpoint\n",
        "from sklearn.metrics import classification_report,confusion_matrix\n",
        "import ipywidgets as widgets\n",
        "from keras.regularizers import l2\n",
        "import matplotlib.pyplot as plt\n",
        "import io\n",
        "from PIL import Image\n",
        "from keras.utils import to_categorical\n",
        "from IPython.display import display,clear_output\n",
        "from warnings import filterwarnings\n",
        "from tensorflow.keras.applications import VGG16\n",
        "from tensorflow.keras.applications import InceptionV3"
      ],
      "metadata": {
        "execution": {
          "iopub.status.busy": "2023-11-28T17:16:38.842166Z",
          "iopub.execute_input": "2023-11-28T17:16:38.842548Z",
          "iopub.status.idle": "2023-11-28T17:16:38.851824Z",
          "shell.execute_reply.started": "2023-11-28T17:16:38.842512Z",
          "shell.execute_reply": "2023-11-28T17:16:38.850864Z"
        },
        "trusted": true,
        "id": "QaeL342lJ-vD"
      },
      "execution_count": null,
      "outputs": []
    },
    {
      "cell_type": "markdown",
      "source": [
        "### Data Loading and Preprocessing"
      ],
      "metadata": {
        "id": "CVgCnAb3J-vF"
      }
    },
    {
      "cell_type": "code",
      "source": [
        "data_dir = \"/kaggle/input/brain-tumor-classification-mri/Training\"\n",
        "test_data_dir = '/kaggle/input/brain-tumor-classification-mri/Testing'\n",
        "\n",
        "class_names = ['glioma_tumor', 'no_tumor', 'meningioma_tumor', 'pituitary_tumor']\n",
        "\n",
        "def load_data(data_directory):\n",
        "    images = []\n",
        "    labels = []\n",
        "    for class_idx, class_name in enumerate(class_names):\n",
        "        class_dir = os.path.join(data_directory, class_name)\n",
        "        for filename in os.listdir(class_dir):\n",
        "            if filename.endswith('.jpg') or filename.endswith('.png'):\n",
        "                img_path = os.path.join(class_dir, filename)\n",
        "                img = tf.keras.preprocessing.image.load_img(img_path, target_size=(224, 224))\n",
        "                img_array = tf.keras.preprocessing.image.img_to_array(img)\n",
        "                images.append(img_array)\n",
        "                labels.append(class_idx)\n",
        "    images = np.array(images)\n",
        "    labels = np.array(labels)\n",
        "    return images, labels\n",
        "\n",
        "# Load the data\n",
        "X, y = load_data(data_dir)\n",
        "X_test, y_test = load_data(test_data_dir)\n",
        "\n",
        "# Normalize the pixel values\n",
        "X = X / 255.0\n",
        "X_test = X_test / 255.0\n",
        "# Convert class vectors to binary class matrices\n",
        "y = to_categorical(y, num_classes=len(class_names))"
      ],
      "metadata": {
        "execution": {
          "iopub.status.busy": "2023-11-28T17:16:42.282844Z",
          "iopub.execute_input": "2023-11-28T17:16:42.283184Z",
          "iopub.status.idle": "2023-11-28T17:16:56.480039Z",
          "shell.execute_reply.started": "2023-11-28T17:16:42.283154Z",
          "shell.execute_reply": "2023-11-28T17:16:56.479056Z"
        },
        "trusted": true,
        "id": "KJ3EElfwJ-vF"
      },
      "execution_count": null,
      "outputs": []
    },
    {
      "cell_type": "code",
      "source": [
        "X_train, X_val, y_train, y_val = train_test_split(X, y, test_size=0.2, random_state=42)\n",
        "\n",
        "# Data augmentation\n",
        "data_gen = ImageDataGenerator(\n",
        "    rotation_range=10,\n",
        "    width_shift_range=0.1,\n",
        "    height_shift_range=0.1,\n",
        "    shear_range=0.1,\n",
        "    zoom_range=0.2,\n",
        "    horizontal_flip=True,\n",
        "    fill_mode='nearest'\n",
        ")\n",
        "\n",
        "# Prepare iterators\n",
        "train_gen = data_gen.flow(X_train, y_train, batch_size=32)\n",
        "val_gen = data_gen.flow(X_val, y_val, batch_size=32)"
      ],
      "metadata": {
        "execution": {
          "iopub.status.busy": "2023-11-28T17:17:44.354943Z",
          "iopub.execute_input": "2023-11-28T17:17:44.355313Z",
          "iopub.status.idle": "2023-11-28T17:17:44.844464Z",
          "shell.execute_reply.started": "2023-11-28T17:17:44.355277Z",
          "shell.execute_reply": "2023-11-28T17:17:44.843525Z"
        },
        "trusted": true,
        "id": "MymPXi-VJ-vF"
      },
      "execution_count": null,
      "outputs": []
    },
    {
      "cell_type": "code",
      "source": [
        "import numpy as np\n",
        "from sklearn.model_selection import train_test_split\n",
        "from skimage import feature, morphology\n",
        "from keras.preprocessing.image import ImageDataGenerator\n",
        "\n",
        "X_hog = np.array([feature.hog(img, block_norm='L2-Hys', visualize=False) for img in X])\n",
        "X_morph = np.array([morphology.binary_erosion(img) for img in X])"
      ],
      "metadata": {
        "execution": {
          "iopub.status.busy": "2023-11-28T16:36:48.877821Z",
          "iopub.execute_input": "2023-11-28T16:36:48.878167Z",
          "iopub.status.idle": "2023-11-28T16:38:39.038497Z",
          "shell.execute_reply.started": "2023-11-28T16:36:48.878134Z",
          "shell.execute_reply": "2023-11-28T16:38:39.037506Z"
        },
        "trusted": true,
        "id": "1j5g3i7jJ-vF"
      },
      "execution_count": null,
      "outputs": []
    },
    {
      "cell_type": "code",
      "source": [
        "def preprocess(X):\n",
        "    X_morph = np.array([morphology.binary_erosion(img) for img in X])\n",
        "    X_combined = np.concatenate([X, X_morph], axis=-1)\n",
        "    return X_combined[:,:,:,:3],X_combined[:,:,:,3:]\n",
        "\n",
        "X_test_1, X_test_2 = preprocess(X_test)"
      ],
      "metadata": {
        "execution": {
          "iopub.status.busy": "2023-11-28T16:38:56.073183Z",
          "iopub.execute_input": "2023-11-28T16:38:56.073571Z",
          "iopub.status.idle": "2023-11-28T16:38:57.678656Z",
          "shell.execute_reply.started": "2023-11-28T16:38:56.073529Z",
          "shell.execute_reply": "2023-11-28T16:38:57.677685Z"
        },
        "trusted": true,
        "id": "k_A5amwqJ-vF"
      },
      "execution_count": null,
      "outputs": []
    },
    {
      "cell_type": "code",
      "source": [
        "# Concatenate the original images with the extracted features\n",
        "X_combined = np.concatenate([X, X_morph], axis=-1)"
      ],
      "metadata": {
        "execution": {
          "iopub.status.busy": "2023-11-28T16:39:03.083173Z",
          "iopub.execute_input": "2023-11-28T16:39:03.083601Z",
          "iopub.status.idle": "2023-11-28T16:39:05.520959Z",
          "shell.execute_reply.started": "2023-11-28T16:39:03.083560Z",
          "shell.execute_reply": "2023-11-28T16:39:05.520191Z"
        },
        "trusted": true,
        "id": "ziXX1ySMJ-vG"
      },
      "execution_count": null,
      "outputs": []
    },
    {
      "cell_type": "code",
      "source": [
        "# Split the data into training and validation sets\n",
        "X_train, X_val, y_train, y_val = train_test_split(X_combined, y, test_size=0.2, random_state=42)\n",
        "\n",
        "# Data augmentation\n",
        "data_gen = ImageDataGenerator(\n",
        "    rotation_range=10,\n",
        "    width_shift_range=0.1,\n",
        "    height_shift_range=0.1,\n",
        "    shear_range=0.1,\n",
        "    zoom_range=0.2,\n",
        "    horizontal_flip=True,\n",
        "    fill_mode='nearest'\n",
        ")\n",
        "\n",
        "# Prepare iterators\n",
        "train_gen = data_gen.flow(X_train, y_train, batch_size=32)\n",
        "val_gen = data_gen.flow(X_val, y_val, batch_size=32)"
      ],
      "metadata": {
        "execution": {
          "iopub.status.busy": "2023-11-28T16:39:22.491547Z",
          "iopub.execute_input": "2023-11-28T16:39:22.491927Z",
          "iopub.status.idle": "2023-11-28T16:39:23.483577Z",
          "shell.execute_reply.started": "2023-11-28T16:39:22.491891Z",
          "shell.execute_reply": "2023-11-28T16:39:23.482661Z"
        },
        "trusted": true,
        "id": "Q66l41pgJ-vG",
        "outputId": "d5218be9-b100-4877-e0d6-1b84980df7e5"
      },
      "execution_count": null,
      "outputs": [
        {
          "name": "stderr",
          "text": "/opt/conda/lib/python3.7/site-packages/keras_preprocessing/image/numpy_array_iterator.py:136: UserWarning: NumpyArrayIterator is set to use the data format convention \"channels_last\" (channels on axis 3), i.e. expected either 1, 3, or 4 channels on axis 3. However, it was passed an array with shape (2296, 224, 224, 6) (6 channels).\n  str(self.x.shape[channels_axis]) + ' channels).')\n/opt/conda/lib/python3.7/site-packages/keras_preprocessing/image/numpy_array_iterator.py:136: UserWarning: NumpyArrayIterator is set to use the data format convention \"channels_last\" (channels on axis 3), i.e. expected either 1, 3, or 4 channels on axis 3. However, it was passed an array with shape (574, 224, 224, 6) (6 channels).\n  str(self.x.shape[channels_axis]) + ' channels).')\n",
          "output_type": "stream"
        }
      ]
    },
    {
      "cell_type": "code",
      "source": [
        "from skimage import feature, morphology\n",
        "from keras.preprocessing.image import ImageDataGenerator\n",
        "\n",
        "X_hog = np.array([feature.hog(img, block_norm='L2-Hys', visualize=False) for img in X])\n",
        "X_morph = np.array([morphology.binary_erosion(img) for img in X])\n",
        "\n",
        "X_combined = np.concatenate([X, X_morph], axis=-1)\n",
        "\n",
        "X_train, X_val, y_train, y_val = train_test_split(X_combined, y, test_size=0.2, random_state=42)"
      ],
      "metadata": {
        "execution": {
          "iopub.status.busy": "2023-11-28T16:39:23.839756Z",
          "iopub.execute_input": "2023-11-28T16:39:23.840092Z",
          "iopub.status.idle": "2023-11-28T16:41:16.267544Z",
          "shell.execute_reply.started": "2023-11-28T16:39:23.840062Z",
          "shell.execute_reply": "2023-11-28T16:41:16.266729Z"
        },
        "trusted": true,
        "id": "q6XG_gC1J-vH"
      },
      "execution_count": null,
      "outputs": []
    },
    {
      "cell_type": "code",
      "source": [
        "X_train_1,X_train_2 = X_train[:,:,:,:3],X_train[:,:,:,3:]\n",
        "X_val_1,X_val_2 = X_val[:,:,:,:3],X_val[:,:,:,3:]\n",
        "\n",
        "data_gen = ImageDataGenerator(\n",
        "    rotation_range=10,\n",
        "    width_shift_range=0.1,\n",
        "    height_shift_range=0.1,\n",
        "    shear_range=0.1,\n",
        "    zoom_range=0.2,\n",
        "    horizontal_flip=True,\n",
        "    fill_mode='nearest'\n",
        ")\n",
        "\n",
        "train_gen = data_gen.flow(X_train_1, y_train, batch_size=32)\n",
        "val_gen = data_gen.flow(X_val_1, y_val, batch_size=32)"
      ],
      "metadata": {
        "execution": {
          "iopub.status.busy": "2023-11-28T16:41:50.432500Z",
          "iopub.execute_input": "2023-11-28T16:41:50.432885Z",
          "iopub.status.idle": "2023-11-28T16:41:50.439743Z",
          "shell.execute_reply.started": "2023-11-28T16:41:50.432848Z",
          "shell.execute_reply": "2023-11-28T16:41:50.438782Z"
        },
        "trusted": true,
        "id": "RJxHxAGPJ-vH"
      },
      "execution_count": null,
      "outputs": []
    },
    {
      "cell_type": "markdown",
      "source": [
        "## Baseline Model Training (Model 1)"
      ],
      "metadata": {
        "id": "W_vHV-csJ-vH"
      }
    },
    {
      "cell_type": "code",
      "source": [
        "model = Sequential([\n",
        "    Conv2D(32, (3, 3), activation='relu', input_shape=(224, 224, 3)),\n",
        "    MaxPooling2D((2, 2)),\n",
        "    Conv2D(64, (3, 3), activation='relu'),\n",
        "    MaxPooling2D((2, 2)),\n",
        "    Conv2D(128, (3, 3), activation='relu'),\n",
        "    MaxPooling2D((2, 2)),\n",
        "    Flatten(),\n",
        "    Dense(128, activation='relu'),\n",
        "    Dropout(0.5),\n",
        "    Dense(len(class_names), activation='softmax'),\n",
        "])\n",
        "\n",
        "model.compile(optimizer='adam',\n",
        "              loss='categorical_crossentropy',\n",
        "              metrics=['accuracy'])\n",
        "\n",
        "# Model summary\n",
        "model.summary()"
      ],
      "metadata": {
        "execution": {
          "iopub.status.busy": "2023-11-28T17:18:01.405767Z",
          "iopub.execute_input": "2023-11-28T17:18:01.406114Z",
          "iopub.status.idle": "2023-11-28T17:18:01.481344Z",
          "shell.execute_reply.started": "2023-11-28T17:18:01.406084Z",
          "shell.execute_reply": "2023-11-28T17:18:01.480482Z"
        },
        "trusted": true,
        "id": "pmHcO20EJ-vH",
        "outputId": "34cde7d0-f055-42b2-f202-cfff6a42b2ba"
      },
      "execution_count": null,
      "outputs": [
        {
          "name": "stdout",
          "text": "Model: \"sequential_1\"\n_________________________________________________________________\nLayer (type)                 Output Shape              Param #   \n=================================================================\nconv2d_3 (Conv2D)            (None, 222, 222, 32)      896       \n_________________________________________________________________\nmax_pooling2d_3 (MaxPooling2 (None, 111, 111, 32)      0         \n_________________________________________________________________\nconv2d_4 (Conv2D)            (None, 109, 109, 64)      18496     \n_________________________________________________________________\nmax_pooling2d_4 (MaxPooling2 (None, 54, 54, 64)        0         \n_________________________________________________________________\nconv2d_5 (Conv2D)            (None, 52, 52, 128)       73856     \n_________________________________________________________________\nmax_pooling2d_5 (MaxPooling2 (None, 26, 26, 128)       0         \n_________________________________________________________________\nflatten_1 (Flatten)          (None, 86528)             0         \n_________________________________________________________________\ndense_2 (Dense)              (None, 128)               11075712  \n_________________________________________________________________\ndropout_1 (Dropout)          (None, 128)               0         \n_________________________________________________________________\ndense_3 (Dense)              (None, 4)                 516       \n=================================================================\nTotal params: 11,169,476\nTrainable params: 11,169,476\nNon-trainable params: 0\n_________________________________________________________________\n",
          "output_type": "stream"
        }
      ]
    },
    {
      "cell_type": "code",
      "source": [
        "# Define a callback to prevent overfitting\n",
        "callbacks = [\n",
        "    tf.keras.callbacks.EarlyStopping(patience=10, monitor='val_loss')\n",
        "]\n",
        "\n",
        "# Train the model\n",
        "history = model.fit(\n",
        "    train_gen,\n",
        "    steps_per_epoch=len(train_gen),\n",
        "    epochs=30,\n",
        "    validation_data=val_gen,\n",
        "    validation_steps=len(val_gen),\n",
        "    callbacks=callbacks\n",
        ")"
      ],
      "metadata": {
        "execution": {
          "iopub.status.busy": "2023-11-28T17:18:12.899634Z",
          "iopub.execute_input": "2023-11-28T17:18:12.899979Z",
          "iopub.status.idle": "2023-11-28T17:32:34.016106Z",
          "shell.execute_reply.started": "2023-11-28T17:18:12.899948Z",
          "shell.execute_reply": "2023-11-28T17:32:34.015198Z"
        },
        "trusted": true,
        "id": "U_qTYntEJ-vI",
        "outputId": "33a5ed79-1872-407f-f3e4-5ebcc4339201"
      },
      "execution_count": null,
      "outputs": [
        {
          "name": "stdout",
          "text": "Epoch 1/30\n72/72 [==============================] - 29s 404ms/step - loss: 1.4121 - accuracy: 0.3647 - val_loss: 1.1419 - val_accuracy: 0.4861\nEpoch 2/30\n72/72 [==============================] - 29s 403ms/step - loss: 1.1431 - accuracy: 0.4891 - val_loss: 1.0109 - val_accuracy: 0.5453\nEpoch 3/30\n72/72 [==============================] - 29s 402ms/step - loss: 1.0260 - accuracy: 0.5464 - val_loss: 0.9655 - val_accuracy: 0.5557\nEpoch 4/30\n72/72 [==============================] - 29s 398ms/step - loss: 0.9765 - accuracy: 0.5673 - val_loss: 0.8583 - val_accuracy: 0.6307\nEpoch 5/30\n72/72 [==============================] - 29s 401ms/step - loss: 0.8881 - accuracy: 0.6070 - val_loss: 0.8428 - val_accuracy: 0.6237\nEpoch 6/30\n72/72 [==============================] - 29s 396ms/step - loss: 0.8572 - accuracy: 0.6260 - val_loss: 0.8543 - val_accuracy: 0.6307\nEpoch 7/30\n72/72 [==============================] - 29s 398ms/step - loss: 0.7963 - accuracy: 0.6608 - val_loss: 0.7946 - val_accuracy: 0.6707\nEpoch 8/30\n72/72 [==============================] - 29s 397ms/step - loss: 0.8241 - accuracy: 0.6316 - val_loss: 0.7410 - val_accuracy: 0.6934\nEpoch 9/30\n72/72 [==============================] - 29s 402ms/step - loss: 0.7451 - accuracy: 0.6751 - val_loss: 0.7471 - val_accuracy: 0.6777\nEpoch 10/30\n72/72 [==============================] - 28s 393ms/step - loss: 0.7498 - accuracy: 0.6885 - val_loss: 0.7330 - val_accuracy: 0.6777\nEpoch 11/30\n72/72 [==============================] - 29s 397ms/step - loss: 0.7661 - accuracy: 0.6590 - val_loss: 0.7009 - val_accuracy: 0.6986\nEpoch 12/30\n72/72 [==============================] - 28s 393ms/step - loss: 0.7035 - accuracy: 0.6906 - val_loss: 0.6743 - val_accuracy: 0.7056\nEpoch 13/30\n72/72 [==============================] - 29s 400ms/step - loss: 0.6965 - accuracy: 0.7065 - val_loss: 0.6621 - val_accuracy: 0.7108\nEpoch 14/30\n72/72 [==============================] - 29s 399ms/step - loss: 0.6541 - accuracy: 0.7130 - val_loss: 0.6546 - val_accuracy: 0.7247\nEpoch 15/30\n72/72 [==============================] - 28s 395ms/step - loss: 0.6294 - accuracy: 0.7259 - val_loss: 0.6530 - val_accuracy: 0.7195\nEpoch 16/30\n72/72 [==============================] - 29s 401ms/step - loss: 0.6594 - accuracy: 0.6985 - val_loss: 0.6253 - val_accuracy: 0.7125\nEpoch 17/30\n72/72 [==============================] - 28s 388ms/step - loss: 0.6561 - accuracy: 0.7240 - val_loss: 0.7062 - val_accuracy: 0.7178\nEpoch 18/30\n72/72 [==============================] - 28s 395ms/step - loss: 0.6108 - accuracy: 0.7453 - val_loss: 0.6223 - val_accuracy: 0.7300\nEpoch 19/30\n72/72 [==============================] - 29s 396ms/step - loss: 0.5938 - accuracy: 0.7411 - val_loss: 0.7065 - val_accuracy: 0.6934\nEpoch 20/30\n72/72 [==============================] - 28s 395ms/step - loss: 0.5583 - accuracy: 0.7545 - val_loss: 0.6115 - val_accuracy: 0.7404\nEpoch 21/30\n72/72 [==============================] - 29s 399ms/step - loss: 0.5755 - accuracy: 0.7737 - val_loss: 0.5898 - val_accuracy: 0.7439\nEpoch 22/30\n72/72 [==============================] - 28s 394ms/step - loss: 0.6085 - accuracy: 0.7470 - val_loss: 0.5882 - val_accuracy: 0.7491\nEpoch 23/30\n72/72 [==============================] - 28s 394ms/step - loss: 0.5420 - accuracy: 0.7604 - val_loss: 0.5428 - val_accuracy: 0.7596\nEpoch 24/30\n72/72 [==============================] - 28s 395ms/step - loss: 0.5416 - accuracy: 0.7814 - val_loss: 0.5143 - val_accuracy: 0.7822\nEpoch 25/30\n72/72 [==============================] - 29s 402ms/step - loss: 0.5370 - accuracy: 0.7807 - val_loss: 0.5563 - val_accuracy: 0.7613\nEpoch 26/30\n72/72 [==============================] - 29s 396ms/step - loss: 0.5512 - accuracy: 0.7637 - val_loss: 0.5384 - val_accuracy: 0.7753\nEpoch 27/30\n72/72 [==============================] - 29s 401ms/step - loss: 0.5630 - accuracy: 0.7671 - val_loss: 0.5984 - val_accuracy: 0.7526\nEpoch 28/30\n72/72 [==============================] - 29s 403ms/step - loss: 0.5222 - accuracy: 0.7782 - val_loss: 0.5578 - val_accuracy: 0.7666\nEpoch 29/30\n72/72 [==============================] - 29s 398ms/step - loss: 0.5272 - accuracy: 0.7865 - val_loss: 0.5056 - val_accuracy: 0.8014\nEpoch 30/30\n72/72 [==============================] - 29s 399ms/step - loss: 0.4874 - accuracy: 0.8095 - val_loss: 0.5423 - val_accuracy: 0.7822\n",
          "output_type": "stream"
        }
      ]
    },
    {
      "cell_type": "code",
      "source": [
        "plt.plot(history.history['accuracy'])\n",
        "plt.plot(history.history['val_accuracy'])"
      ],
      "metadata": {
        "execution": {
          "iopub.status.busy": "2023-11-28T17:33:31.418239Z",
          "iopub.execute_input": "2023-11-28T17:33:31.418617Z",
          "iopub.status.idle": "2023-11-28T17:33:31.573853Z",
          "shell.execute_reply.started": "2023-11-28T17:33:31.418582Z",
          "shell.execute_reply": "2023-11-28T17:33:31.573005Z"
        },
        "trusted": true,
        "id": "RLdnqoaGJ-vI",
        "outputId": "0e95ea74-9ec0-4471-f259-1c09de5a3e91"
      },
      "execution_count": null,
      "outputs": [
        {
          "execution_count": 27,
          "output_type": "execute_result",
          "data": {
            "text/plain": "[<matplotlib.lines.Line2D at 0x7f835b91ded0>]"
          },
          "metadata": {}
        },
        {
          "output_type": "display_data",
          "data": {
            "text/plain": "<Figure size 432x288 with 1 Axes>",
            "image/png": "[encoded data removed]"
          },
          "metadata": {
            "needs_background": "light"
          }
        }
      ]
    },
    {
      "cell_type": "code",
      "source": [
        "plt.plot(history.history['loss'])\n",
        "plt.plot(history.history['val_loss'])"
      ],
      "metadata": {
        "execution": {
          "iopub.status.busy": "2023-11-28T17:33:34.383167Z",
          "iopub.execute_input": "2023-11-28T17:33:34.383558Z",
          "iopub.status.idle": "2023-11-28T17:33:34.533989Z",
          "shell.execute_reply.started": "2023-11-28T17:33:34.383520Z",
          "shell.execute_reply": "2023-11-28T17:33:34.533132Z"
        },
        "trusted": true,
        "id": "80QL5yN-J-vI",
        "outputId": "28c3865d-bcbb-43dc-e88b-c5c22d95d078"
      },
      "execution_count": null,
      "outputs": [
        {
          "execution_count": 28,
          "output_type": "execute_result",
          "data": {
            "text/plain": "[<matplotlib.lines.Line2D at 0x7f835b8c6710>]"
          },
          "metadata": {}
        },
        {
          "output_type": "display_data",
          "data": {
            "text/plain": "<Figure size 432x288 with 1 Axes>",
            "image/png": "[encoded data removed]"
          },
          "metadata": {
            "needs_background": "light"
          }
        }
      ]
    },
    {
      "cell_type": "code",
      "source": [
        "# Predict the labels for the training set\n",
        "y_train_pred = model.predict(X_train)\n",
        "\n",
        "# Convert the predicted probabilities to class labels\n",
        "y_train_pred_labels = np.argmax(y_train_pred, axis=1)\n",
        "\n",
        "# Convert one-hot encoded labels to the actual class labels\n",
        "y_train_true_labels = np.argmax(y_train, axis=1)\n",
        "\n",
        "# Calculate training accuracy\n",
        "train_accuracy = accuracy_score(y_train_true_labels, y_train_pred_labels)\n",
        "print(f'Training Accuracy: {train_accuracy * 100:.2f}%')\n",
        "\n",
        "# Predict the labels for the validation set\n",
        "y_val_pred = model.predict(X_val)\n",
        "\n",
        "# Convert the predicted probabilities to class labels\n",
        "y_val_pred_labels = np.argmax(y_val_pred, axis=1)\n",
        "\n",
        "# Convert one-hot encoded labels to the actual class labels\n",
        "y_val_true_labels = np.argmax(y_val, axis=1)\n",
        "\n",
        "# Calculate validation accuracy\n",
        "val_accuracy = accuracy_score(y_val_true_labels, y_val_pred_labels)\n",
        "print(f'Validation Accuracy: {val_accuracy * 100:.2f}%')"
      ],
      "metadata": {
        "execution": {
          "iopub.status.busy": "2023-11-28T17:33:36.780078Z",
          "iopub.execute_input": "2023-11-28T17:33:36.780541Z",
          "iopub.status.idle": "2023-11-28T17:33:48.285547Z",
          "shell.execute_reply.started": "2023-11-28T17:33:36.780489Z",
          "shell.execute_reply": "2023-11-28T17:33:48.284602Z"
        },
        "trusted": true,
        "id": "OLu5adkIJ-vI",
        "outputId": "ac6d0bb8-278b-4e2e-ed0b-f19399d1d875"
      },
      "execution_count": null,
      "outputs": [
        {
          "name": "stdout",
          "text": "Training Accuracy: 77.22%\nValidation Accuracy: 75.26%\n",
          "output_type": "stream"
        }
      ]
    },
    {
      "cell_type": "markdown",
      "source": [
        "## ResNet"
      ],
      "metadata": {
        "id": "Vvo5YLdnJ-vK"
      }
    },
    {
      "cell_type": "code",
      "source": [
        "import tensorflow as tf\n",
        "from tensorflow.keras import layers, models\n",
        "from tensorflow.keras.applications import ResNet50\n",
        "\n",
        "# Load the ResNet50 model without the top (fully connected) layers\n",
        "base_model = ResNet50(include_top=False, weights='imagenet', input_shape=(224, 224, 3))\n",
        "\n",
        "# Freeze the layers of the ResNet50 base model\n",
        "for layer in base_model.layers:\n",
        "    layer.trainable = False\n",
        "for layer in base_model.layers[-10:]:\n",
        "    layer.trainable = True\n",
        "# Create a custom small model on top of the ResNet50 base\n",
        "model3 = models.Sequential()\n",
        "model3.add(base_model)\n",
        "model3.add(layers.Flatten())\n",
        "model3.add(layers.Dense(256, activation='relu'))\n",
        "model3.add(layers.Dropout(0.5))\n",
        "model3.add(layers.Dense(4, activation='softmax'))  # Assuming 4 classes for classification\n",
        "\n",
        "# Compile the model\n",
        "model3.compile(optimizer='adam', loss='categorical_crossentropy', metrics=['accuracy'])\n",
        "\n",
        "# Display the model summary\n",
        "model3.summary()\n",
        "\n",
        "history = model3.fit(X_train_1,y_train,epochs=50,validation_data=val_gen)"
      ],
      "metadata": {
        "execution": {
          "iopub.status.busy": "2023-11-28T17:37:51.074480Z",
          "iopub.execute_input": "2023-11-28T17:37:51.074841Z",
          "iopub.status.idle": "2023-11-28T17:46:22.491404Z",
          "shell.execute_reply.started": "2023-11-28T17:37:51.074810Z",
          "shell.execute_reply": "2023-11-28T17:46:22.490523Z"
        },
        "trusted": true,
        "id": "RjvWCgCGJ-vR",
        "outputId": "0ba9ff09-4545-4ff3-9f3c-2a88745d112b"
      },
      "execution_count": null,
      "outputs": [
        {
          "name": "stdout",
          "text": "Downloading data from https://storage.googleapis.com/tensorflow/keras-applications/resnet/resnet50_weights_tf_dim_ordering_tf_kernels_notop.h5\n94773248/94765736 [==============================] - 1s 0us/step\nModel: \"sequential_2\"\n_________________________________________________________________\nLayer (type)                 Output Shape              Param #   \n=================================================================\nresnet50 (Functional)        (None, 7, 7, 2048)        23587712  \n_________________________________________________________________\nflatten_2 (Flatten)          (None, 100352)            0         \n_________________________________________________________________\ndense_4 (Dense)              (None, 256)               25690368  \n_________________________________________________________________\ndropout_2 (Dropout)          (None, 256)               0         \n_________________________________________________________________\ndense_5 (Dense)              (None, 4)                 1028      \n=================================================================\nTotal params: 49,279,108\nTrainable params: 30,157,060\nNon-trainable params: 19,122,048\n_________________________________________________________________\nEpoch 1/50\n72/72 [==============================] - 15s 164ms/step - loss: 8.0421 - accuracy: 0.3467 - val_loss: 7.6250 - val_accuracy: 0.1376\nEpoch 2/50\n72/72 [==============================] - 10s 139ms/step - loss: 1.0975 - accuracy: 0.5176 - val_loss: 2.4847 - val_accuracy: 0.2300\nEpoch 3/50\n72/72 [==============================] - 10s 139ms/step - loss: 0.9826 - accuracy: 0.5623 - val_loss: 1.1698 - val_accuracy: 0.4477\nEpoch 4/50\n72/72 [==============================] - 10s 139ms/step - loss: 0.9505 - accuracy: 0.5986 - val_loss: 1.3361 - val_accuracy: 0.4582\nEpoch 5/50\n72/72 [==============================] - 10s 139ms/step - loss: 0.9142 - accuracy: 0.6415 - val_loss: 1.7250 - val_accuracy: 0.3502\nEpoch 6/50\n72/72 [==============================] - 10s 139ms/step - loss: 0.8816 - accuracy: 0.6297 - val_loss: 3.0790 - val_accuracy: 0.3014\nEpoch 7/50\n72/72 [==============================] - 10s 140ms/step - loss: 0.8789 - accuracy: 0.6248 - val_loss: 1.4988 - val_accuracy: 0.4739\nEpoch 8/50\n72/72 [==============================] - 10s 140ms/step - loss: 0.9176 - accuracy: 0.6100 - val_loss: 1.4933 - val_accuracy: 0.4355\nEpoch 9/50\n72/72 [==============================] - 10s 142ms/step - loss: 0.8975 - accuracy: 0.6065 - val_loss: 1.5780 - val_accuracy: 0.3850\nEpoch 10/50\n72/72 [==============================] - 10s 139ms/step - loss: 0.8795 - accuracy: 0.6036 - val_loss: 1.2520 - val_accuracy: 0.4181\nEpoch 11/50\n72/72 [==============================] - 10s 139ms/step - loss: 0.8582 - accuracy: 0.6117 - val_loss: 1.2467 - val_accuracy: 0.4808\nEpoch 12/50\n72/72 [==============================] - 10s 141ms/step - loss: 0.7879 - accuracy: 0.6638 - val_loss: 3.0015 - val_accuracy: 0.3014\nEpoch 13/50\n72/72 [==============================] - 10s 139ms/step - loss: 0.7863 - accuracy: 0.6420 - val_loss: 1.7317 - val_accuracy: 0.3780\nEpoch 14/50\n72/72 [==============================] - 10s 139ms/step - loss: 0.8179 - accuracy: 0.6419 - val_loss: 1.5926 - val_accuracy: 0.4181\nEpoch 15/50\n72/72 [==============================] - 10s 142ms/step - loss: 0.7479 - accuracy: 0.6653 - val_loss: 1.8392 - val_accuracy: 0.3955\nEpoch 16/50\n72/72 [==============================] - 10s 139ms/step - loss: 0.8232 - accuracy: 0.6311 - val_loss: 2.5242 - val_accuracy: 0.3502\nEpoch 17/50\n72/72 [==============================] - 10s 139ms/step - loss: 0.7308 - accuracy: 0.6976 - val_loss: 2.6547 - val_accuracy: 0.3990\nEpoch 18/50\n72/72 [==============================] - 10s 142ms/step - loss: 0.7340 - accuracy: 0.6690 - val_loss: 1.5538 - val_accuracy: 0.4634\nEpoch 19/50\n72/72 [==============================] - 10s 138ms/step - loss: 0.7290 - accuracy: 0.6641 - val_loss: 1.1505 - val_accuracy: 0.5244\nEpoch 20/50\n72/72 [==============================] - 10s 139ms/step - loss: 0.7364 - accuracy: 0.6626 - val_loss: 10.6503 - val_accuracy: 0.1376\nEpoch 21/50\n72/72 [==============================] - 10s 142ms/step - loss: 0.6806 - accuracy: 0.6969 - val_loss: 1.7947 - val_accuracy: 0.4530\nEpoch 22/50\n72/72 [==============================] - 10s 140ms/step - loss: 0.6969 - accuracy: 0.6894 - val_loss: 1.5950 - val_accuracy: 0.4983\nEpoch 23/50\n72/72 [==============================] - 10s 141ms/step - loss: 0.7128 - accuracy: 0.6885 - val_loss: 2.0903 - val_accuracy: 0.4460\nEpoch 24/50\n72/72 [==============================] - 10s 139ms/step - loss: 0.6643 - accuracy: 0.7039 - val_loss: 2.2464 - val_accuracy: 0.4007\nEpoch 25/50\n72/72 [==============================] - 10s 139ms/step - loss: 0.6908 - accuracy: 0.6822 - val_loss: 1.3263 - val_accuracy: 0.4983\nEpoch 26/50\n72/72 [==============================] - 10s 140ms/step - loss: 0.7276 - accuracy: 0.6778 - val_loss: 2.0264 - val_accuracy: 0.4443\nEpoch 27/50\n72/72 [==============================] - 10s 142ms/step - loss: 0.6761 - accuracy: 0.7032 - val_loss: 1.3445 - val_accuracy: 0.5122\nEpoch 28/50\n72/72 [==============================] - 10s 139ms/step - loss: 0.6454 - accuracy: 0.7064 - val_loss: 1.9955 - val_accuracy: 0.4268\nEpoch 29/50\n72/72 [==============================] - 10s 138ms/step - loss: 0.6278 - accuracy: 0.7252 - val_loss: 1.4379 - val_accuracy: 0.5105\nEpoch 30/50\n72/72 [==============================] - 10s 139ms/step - loss: 0.6379 - accuracy: 0.7068 - val_loss: 6.9616 - val_accuracy: 0.1725\nEpoch 31/50\n72/72 [==============================] - 10s 141ms/step - loss: 0.5694 - accuracy: 0.7608 - val_loss: 1.9259 - val_accuracy: 0.3571\nEpoch 32/50\n72/72 [==============================] - 10s 140ms/step - loss: 0.6166 - accuracy: 0.7354 - val_loss: 1.9085 - val_accuracy: 0.4774\nEpoch 33/50\n72/72 [==============================] - 10s 141ms/step - loss: 0.6123 - accuracy: 0.7395 - val_loss: 2.3141 - val_accuracy: 0.4251\nEpoch 34/50\n72/72 [==============================] - 10s 141ms/step - loss: 0.5785 - accuracy: 0.7367 - val_loss: 1.8118 - val_accuracy: 0.5314\nEpoch 35/50\n72/72 [==============================] - 10s 139ms/step - loss: 0.6131 - accuracy: 0.7437 - val_loss: 4.4844 - val_accuracy: 0.2700\nEpoch 36/50\n72/72 [==============================] - 10s 140ms/step - loss: 0.5855 - accuracy: 0.7388 - val_loss: 3.5246 - val_accuracy: 0.2997\nEpoch 37/50\n72/72 [==============================] - 10s 140ms/step - loss: 0.6118 - accuracy: 0.7379 - val_loss: 2.9096 - val_accuracy: 0.3589\nEpoch 38/50\n72/72 [==============================] - 10s 139ms/step - loss: 0.6017 - accuracy: 0.7358 - val_loss: 2.6177 - val_accuracy: 0.4547\nEpoch 39/50\n72/72 [==============================] - 10s 139ms/step - loss: 0.5719 - accuracy: 0.7557 - val_loss: 1.5043 - val_accuracy: 0.4930\nEpoch 40/50\n72/72 [==============================] - 10s 141ms/step - loss: 0.5861 - accuracy: 0.7543 - val_loss: 4.1735 - val_accuracy: 0.3972\nEpoch 41/50\n72/72 [==============================] - 10s 140ms/step - loss: 0.5580 - accuracy: 0.7618 - val_loss: 26.4880 - val_accuracy: 0.1359\nEpoch 42/50\n72/72 [==============================] - 10s 146ms/step - loss: 0.5650 - accuracy: 0.7494 - val_loss: 2.5286 - val_accuracy: 0.5000\nEpoch 43/50\n72/72 [==============================] - 10s 144ms/step - loss: 0.5679 - accuracy: 0.7654 - val_loss: 2.6044 - val_accuracy: 0.3850\nEpoch 44/50\n72/72 [==============================] - 10s 143ms/step - loss: 0.4767 - accuracy: 0.7861 - val_loss: 1.8918 - val_accuracy: 0.4443\nEpoch 45/50\n72/72 [==============================] - 10s 145ms/step - loss: 0.5150 - accuracy: 0.7825 - val_loss: 9.3502 - val_accuracy: 0.3484\nEpoch 46/50\n72/72 [==============================] - 10s 145ms/step - loss: 0.5544 - accuracy: 0.7712 - val_loss: 2.2980 - val_accuracy: 0.4216\nEpoch 47/50\n72/72 [==============================] - 10s 142ms/step - loss: 0.5515 - accuracy: 0.7678 - val_loss: 1.3515 - val_accuracy: 0.4477\nEpoch 48/50\n72/72 [==============================] - 10s 142ms/step - loss: 0.5343 - accuracy: 0.7761 - val_loss: 10.3584 - val_accuracy: 0.3240\nEpoch 49/50\n72/72 [==============================] - 10s 141ms/step - loss: 0.4952 - accuracy: 0.7995 - val_loss: 1.2536 - val_accuracy: 0.5017\nEpoch 50/50\n72/72 [==============================] - 10s 139ms/step - loss: 0.4740 - accuracy: 0.8089 - val_loss: 3.0870 - val_accuracy: 0.4146\n",
          "output_type": "stream"
        }
      ]
    },
    {
      "cell_type": "code",
      "source": [
        "# Predict the labels for the training set\n",
        "y_train_pred = model3.predict(X_train)\n",
        "\n",
        "# Convert the predicted probabilities to class labels\n",
        "y_train_pred_labels = np.argmax(y_train_pred, axis=1)\n",
        "\n",
        "# Convert one-hot encoded labels to the actual class labels\n",
        "y_train_true_labels = np.argmax(y_train, axis=1)\n",
        "\n",
        "# Calculate training accuracy\n",
        "train_accuracy = accuracy_score(y_train_true_labels, y_train_pred_labels)\n",
        "print(f'Training Accuracy: {train_accuracy * 100:.2f}%')\n",
        "\n",
        "# Predict the labels for the validation set\n",
        "y_val_pred = model.predict(X_val)\n",
        "\n",
        "# Convert the predicted probabilities to class labels\n",
        "y_val_pred_labels = np.argmax(y_val_pred, axis=1)\n",
        "\n",
        "# Convert one-hot encoded labels to the actual class labels\n",
        "y_val_true_labels = np.argmax(y_val, axis=1)\n",
        "\n",
        "# Calculate validation accuracy\n",
        "val_accuracy = accuracy_score(y_val_true_labels, y_val_pred_labels)\n",
        "print(f'Validation Accuracy: {val_accuracy * 100:.2f}%')"
      ],
      "metadata": {
        "execution": {
          "iopub.status.busy": "2023-11-28T17:46:30.944224Z",
          "iopub.execute_input": "2023-11-28T17:46:30.944627Z",
          "iopub.status.idle": "2023-11-28T17:46:38.912449Z",
          "shell.execute_reply.started": "2023-11-28T17:46:30.944587Z",
          "shell.execute_reply": "2023-11-28T17:46:38.911506Z"
        },
        "trusted": true,
        "id": "mw6kjjzOJ-vR",
        "outputId": "2568d1c0-bcf1-4569-dc70-06d3eedcc73b"
      },
      "execution_count": null,
      "outputs": [
        {
          "name": "stdout",
          "text": "Training Accuracy: 64.20%\nValidation Accuracy: 75.26%\n",
          "output_type": "stream"
        }
      ]
    },
    {
      "cell_type": "code",
      "source": [
        "# Generate predictions\n",
        "y_pred_probs = model3.predict(X_train_1)\n",
        "y_pred = np.argmax(y_pred_probs, axis=1)\n",
        "y_true = np.argmax(y_train, axis=1)\n",
        "\n",
        "# Create confusion matrix\n",
        "cm = confusion_matrix(y_true, y_pred)\n",
        "\n",
        "# Define class labels\n",
        "class_labels = [\"glioma tumor\", \"meningioma tumor\", \"no tumor\", \"pituitary tumor\"]  # Add your actual class labels here\n",
        "\n",
        "# Create a DataFrame for the confusion matrix\n",
        "cm_df = pd.DataFrame(cm, index=class_labels, columns=class_labels)\n",
        "\n",
        "# Plot the heatmap\n",
        "plt.figure(figsize=(10, 8))\n",
        "sns.heatmap(cm_df, annot=True, cmap='Blues', fmt='g')\n",
        "plt.title('Confusion Matrix Heatmap')\n",
        "plt.xlabel('Predicted')\n",
        "plt.ylabel('True')\n",
        "plt.show()\n"
      ],
      "metadata": {
        "execution": {
          "iopub.status.busy": "2023-11-28T18:11:09.303272Z",
          "iopub.execute_input": "2023-11-28T18:11:09.303666Z",
          "iopub.status.idle": "2023-11-28T18:11:15.274123Z",
          "shell.execute_reply.started": "2023-11-28T18:11:09.303633Z",
          "shell.execute_reply": "2023-11-28T18:11:15.273337Z"
        },
        "trusted": true,
        "id": "tIMNtjEiJ-vS",
        "outputId": "a8a91123-6738-4537-c07a-f70f1e1e6040"
      },
      "execution_count": null,
      "outputs": [
        {
          "output_type": "display_data",
          "data": {
            "text/plain": "<Figure size 720x576 with 2 Axes>",
            "image/png": "[encoded data removed]"
          },
          "metadata": {
            "needs_background": "light"
          }
        }
      ]
    },
    {
      "cell_type": "markdown",
      "source": [
        "## Custom CNN Model (Model 2)"
      ],
      "metadata": {
        "id": "SUIL0wKZK0bh"
      }
    },
    {
      "cell_type": "code",
      "source": [
        "from tensorflow.keras.optimizers import SGD\n",
        "\n",
        "model = Sequential()\n",
        "\n",
        "# Convolutional layer 1\n",
        "model.add(Conv2D(64,(7,7), input_shape=(224, 224, 3), padding='same', activation='relu'))\n",
        "model.add(BatchNormalization())\n",
        "model.add(MaxPooling2D(pool_size=(2,2)))\n",
        "\n",
        "#Convolutional layer 2\n",
        "model.add(Conv2D(128,(7,7), padding='same', activation='relu'))\n",
        "model.add(BatchNormalization())\n",
        "model.add(MaxPooling2D(pool_size=(2,2)))\n",
        "\n",
        "# Convolutional layer 3\n",
        "model.add(Conv2D(128,(7,7), padding='same', activation='relu'))\n",
        "model.add(BatchNormalization())\n",
        "model.add(MaxPooling2D(pool_size=(2,2)))\n",
        "\n",
        "# Convolutional layer 4\n",
        "model.add(Conv2D(256,(7,7), padding='same', activation='relu'))\n",
        "model.add(BatchNormalization())\n",
        "model.add(MaxPooling2D(pool_size=(2,2)))\n",
        "\n",
        " # Convolutional layer 5\n",
        "model.add(Conv2D(256,(7,7), padding='same', activation='relu'))\n",
        "model.add(BatchNormalization())\n",
        "model.add(MaxPooling2D(pool_size=(2,2)))\n",
        "\n",
        "# Convolutional layer 6\n",
        "model.add(Conv2D(512,(7,7), padding='same', activation='relu'))\n",
        "model.add(BatchNormalization())\n",
        "model.add(MaxPooling2D(pool_size=(2,2)))\n",
        "\n",
        "model.add(Flatten())\n",
        "\n",
        "# Full connect layers\n",
        "\n",
        "model.add(Dense(units= 1024, activation='relu'))\n",
        "model.add(Dropout(0.25))\n",
        "model.add(Dense(units=512, activation='relu'))\n",
        "model.add(Dropout(0.25))\n",
        "model.add(Dense(units=4, activation='softmax'))\n",
        "\n",
        "\n",
        "model.compile(optimizer=SGD(learning_rate=0.001), loss='categorical_crossentropy',\n",
        "                   metrics= ['categorical_accuracy'])"
      ],
      "metadata": {
        "execution": {
          "iopub.status.busy": "2023-11-28T17:50:07.984890Z",
          "iopub.execute_input": "2023-11-28T17:50:07.985232Z",
          "iopub.status.idle": "2023-11-28T17:50:08.167974Z",
          "shell.execute_reply.started": "2023-11-28T17:50:07.985201Z",
          "shell.execute_reply": "2023-11-28T17:50:08.167088Z"
        },
        "trusted": true,
        "id": "_pY7lAtyJ-vS"
      },
      "execution_count": null,
      "outputs": []
    },
    {
      "cell_type": "code",
      "source": [
        "model_es = EarlyStopping(monitor = 'loss', min_delta = 1e-11, patience = 12, verbose = 1)\n",
        "model_rlr = ReduceLROnPlateau(monitor = 'val_loss', factor = 0.2, patience = 6, verbose = 1)\n",
        "model_mcp = ModelCheckpoint(filepath = 'model_weights.h5', monitor = 'val_categorical_accuracy',\n",
        "                      save_best_only = True, verbose = 1)\n",
        "\n",
        "history = model.fit(X_train_1,y_train, epochs=10, validation_data=val_gen, validation_steps= 1311//32,\n",
        "                     callbacks=[model_es, model_rlr, model_mcp])"
      ],
      "metadata": {
        "execution": {
          "iopub.status.busy": "2023-11-28T17:50:26.663619Z",
          "iopub.execute_input": "2023-11-28T17:50:26.663954Z",
          "iopub.status.idle": "2023-11-28T18:11:03.256155Z",
          "shell.execute_reply.started": "2023-11-28T17:50:26.663925Z",
          "shell.execute_reply": "2023-11-28T18:11:03.255226Z"
        },
        "trusted": true,
        "id": "FrqeumdoJ-vS",
        "outputId": "96b11765-29f5-4f33-a48e-47f8a4440b72"
      },
      "execution_count": null,
      "outputs": [
        {
          "name": "stdout",
          "text": "Epoch 1/10\n72/72 [==============================] - 162s 2s/step - loss: 1.1483 - categorical_accuracy: 0.5858 - val_loss: 1.4289 - val_categorical_accuracy: 0.2718\n\nEpoch 00001: val_categorical_accuracy improved from -inf to 0.27178, saving model to model_weights.h5\nEpoch 2/10\n72/72 [==============================] - 119s 2s/step - loss: 0.6119 - categorical_accuracy: 0.7500\nEpoch 3/10\n72/72 [==============================] - 119s 2s/step - loss: 0.4243 - categorical_accuracy: 0.8336\nEpoch 4/10\n72/72 [==============================] - 119s 2s/step - loss: 0.2408 - categorical_accuracy: 0.9068\nEpoch 6/10\n72/72 [==============================] - 119s 2s/step - loss: 0.1702 - categorical_accuracy: 0.9395\nEpoch 7/10\n72/72 [==============================] - 119s 2s/step - loss: 0.1365 - categorical_accuracy: 0.9560\nEpoch 8/10\n72/72 [==============================] - 119s 2s/step - loss: 0.1063 - categorical_accuracy: 0.9678\nEpoch 9/10\n72/72 [==============================] - 119s 2s/step - loss: 0.0639 - categorical_accuracy: 0.9839\nEpoch 10/10\n72/72 [==============================] - 119s 2s/step - loss: 0.0558 - categorical_accuracy: 0.9834\n",
          "output_type": "stream"
        }
      ]
    },
    {
      "cell_type": "code",
      "source": [
        "# Predict the labels for the training set\n",
        "y_train_pred = model.predict(X_train)\n",
        "\n",
        "# Convert the predicted probabilities to class labels\n",
        "y_train_pred_labels = np.argmax(y_train_pred, axis=1)\n",
        "\n",
        "# Convert one-hot encoded labels to the actual class labels\n",
        "y_train_true_labels = np.argmax(y_train, axis=1)\n",
        "\n",
        "# Calculate training accuracy\n",
        "train_accuracy = accuracy_score(y_train_true_labels, y_train_pred_labels)\n",
        "print(f'Training Accuracy: {train_accuracy * 100:.2f}%')\n",
        "\n",
        "# Predict the labels for the validation set\n",
        "y_val_pred = model.predict(X_val)\n",
        "\n",
        "# Convert the predicted probabilities to class labels\n",
        "y_val_pred_labels = np.argmax(y_val_pred, axis=1)\n",
        "\n",
        "# Convert one-hot encoded labels to the actual class labels\n",
        "y_val_true_labels = np.argmax(y_val, axis=1)\n",
        "\n",
        "# Calculate validation accuracy\n",
        "val_accuracy = accuracy_score(y_val_true_labels, y_val_pred_labels)\n",
        "print(f'Validation Accuracy: {val_accuracy * 100:.2f}%')"
      ],
      "metadata": {
        "id": "6iNykaTaLQFV"
      },
      "execution_count": null,
      "outputs": []
    },
    {
      "cell_type": "code",
      "source": [
        "# Generate predictions\n",
        "y_pred_probs = model.predict(X_train_1)\n",
        "y_pred = np.argmax(y_pred_probs, axis=1)\n",
        "y_true = np.argmax(y_train, axis=1)\n",
        "\n",
        "# Create confusion matrix\n",
        "cm = confusion_matrix(y_true, y_pred)\n",
        "\n",
        "# Define class labels\n",
        "class_labels = [\"glioma tumor\", \"meningioma tumor\", \"no tumor\", \"pituitary tumor\"]  # Add your actual class labels here\n",
        "\n",
        "# Create a DataFrame for the confusion matrix\n",
        "cm_df = pd.DataFrame(cm, index=class_labels, columns=class_labels)\n",
        "\n",
        "# Plot the heatmap\n",
        "plt.figure(figsize=(10, 8))\n",
        "sns.heatmap(cm_df, annot=True, cmap='Blues', fmt='g')\n",
        "plt.title('Confusion Matrix Heatmap')\n",
        "plt.xlabel('Predicted')\n",
        "plt.ylabel('True')\n",
        "plt.show()\n"
      ],
      "metadata": {
        "execution": {
          "iopub.status.busy": "2023-11-28T18:12:17.113457Z",
          "iopub.execute_input": "2023-11-28T18:12:17.113825Z",
          "iopub.status.idle": "2023-11-28T18:14:12.658808Z",
          "shell.execute_reply.started": "2023-11-28T18:12:17.113792Z",
          "shell.execute_reply": "2023-11-28T18:14:12.657798Z"
        },
        "trusted": true,
        "id": "tMrj3w0wJ-vS",
        "outputId": "de096fb6-bd8f-4948-9233-61b66169e204"
      },
      "execution_count": null,
      "outputs": [
        {
          "output_type": "display_data",
          "data": {
            "text/plain": "<Figure size 720x576 with 2 Axes>",
            "image/png": "[encoded data removed]"
          },
          "metadata": {
            "needs_background": "light"
          }
        }
      ]
    }
  ]
}